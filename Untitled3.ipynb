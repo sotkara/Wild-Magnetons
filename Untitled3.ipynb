{
 "cells": [
  {
   "cell_type": "code",
   "execution_count": 10,
   "id": "2cb4b94d-5388-432b-9dc1-7b10b6b1f4e3",
   "metadata": {},
   "outputs": [
    {
     "name": "stdout",
     "output_type": "stream",
     "text": [
      "0.02489345509893455\n"
     ]
    },
    {
     "name": "stderr",
     "output_type": "stream",
     "text": [
      "\n",
      "KeyboardInterrupt\n",
      "\n"
     ]
    }
   ],
   "source": [
    "import pandas as pd\n",
    "from IPython.display import display\n",
    "\n",
    "df = pd.read_csv('dscovr_data_2018.txt', delim_whitespace=True)\n",
    "output = df.loc[df['field'] <= -5]\n",
    "entries_num = len(df)\n",
    "output_num = len(output)\n",
    "\n",
    "perc = output_num/entries_num\n",
    "\n",
    "print(perc)\n",
    "\n",
    "#output.to_csv('dscovr_data_jan.csv', index=False)\n",
    "dfmin = round(df['field'].min())\n",
    "dfmax = round(df['field'].max())\n",
    "\n",
    "ax = df.plot.hist(column=['doy'], by=\"field\", figsize=(10, 8))\n",
    "ax"
   ]
  }
 ],
 "metadata": {
  "kernelspec": {
   "display_name": "Python 3 (ipykernel)",
   "language": "python",
   "name": "python3"
  },
  "language_info": {
   "codemirror_mode": {
    "name": "ipython",
    "version": 3
   },
   "file_extension": ".py",
   "mimetype": "text/x-python",
   "name": "python",
   "nbconvert_exporter": "python",
   "pygments_lexer": "ipython3",
   "version": "3.11.5"
  }
 },
 "nbformat": 4,
 "nbformat_minor": 5
}
